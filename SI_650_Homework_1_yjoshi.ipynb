{
 "cells": [
  {
   "cell_type": "markdown",
   "metadata": {},
   "source": [
    "#### Name: Yashaswini Joshi                   \n",
    "#### Unique Name: yjoshi"
   ]
  },
  {
   "cell_type": "markdown",
   "metadata": {},
   "source": [
    "##### 2.1\n",
    "Tokenize the text (e.g. use the nltk.word tokenize() function in the NLTK package) and compute the frequency of words. Then, plot the frequency distribution of words in each collection after the removal of the stopwords: x-axis - word frequency (number of times a word appears in the collection); y-axis - proportion of words with this frequency. Plot the distributions on a log-log scale. Does each plot look like a power-law distribution? Are the two distributions similar or different?"
   ]
  },
  {
   "cell_type": "code",
   "execution_count": 14,
   "metadata": {},
   "outputs": [],
   "source": [
    "import nltk\n",
    "import matplotlib.pyplot as plt\n",
    "import numpy as np\n",
    "import string\n",
    "from nltk import pos_tag"
   ]
  },
  {
   "cell_type": "code",
   "execution_count": 25,
   "metadata": {},
   "outputs": [],
   "source": [
    "def stop_word(filename):\n",
    "\twith open(filename) as f:\n",
    "\t\tstopword = dict()\n",
    "\t\tfor line in f:\n",
    "\t\t\tline = line.strip('\\n')\n",
    "\t\t\twords = line.split()\n",
    "\t\t\tfor word in words:\n",
    "\t\t\t\tword = word.lower()\n",
    "\t\t\t\tif word not in stopword:\n",
    "\t\t\t\t\tstopword[word] = 1\n",
    "\t\t\t\telse:\n",
    "\t\t\t\t\tstopword[word] += 1\n",
    "\treturn stopword"
   ]
  },
  {
   "cell_type": "code",
   "execution_count": 26,
   "metadata": {},
   "outputs": [],
   "source": [
    "stop_word = stop_word('stoplist.txt')"
   ]
  },
  {
   "cell_type": "code",
   "execution_count": 20,
   "metadata": {},
   "outputs": [],
   "source": [
    "def DataLoad(filename):\n",
    "\twith open(filename, encoding=\"utf8\") as f:\n",
    "\t\tword_dict = dict()\n",
    "\t\tword_num = 0\n",
    "\t\tfor line in f:\n",
    "\t\t\tline = line.strip('\\n')\n",
    "\t\t\twords = nltk.word_tokenize(line)\n",
    "\t\t\tfor word in words:\n",
    "\t\t\t\tif word not in string.punctuation:\n",
    "\t\t\t\t\tword = word.lower()\n",
    "\t\t\t\t\tword_num += 1\n",
    "\t\t\t\t\tif word not in word_dict:\n",
    "\t\t\t\t\t\tword_dict[word] = 1\n",
    "\t\t\t\t\telse:\n",
    "\t\t\t\t\t\tword_dict[word] += 1\n",
    "\treturn word_dict, word_num"
   ]
  },
  {
   "cell_type": "code",
   "execution_count": 21,
   "metadata": {},
   "outputs": [],
   "source": [
    "wiki_word_dict, wiki_word_num = DataLoad('wiki-bios.10k.txt')"
   ]
  },
  {
   "cell_type": "code",
   "execution_count": 22,
   "metadata": {},
   "outputs": [],
   "source": [
    "reddit_word_dict, reddit_word_num = DataLoad('reddit-questions.10k.txt')"
   ]
  },
  {
   "cell_type": "code",
   "execution_count": 53,
   "metadata": {},
   "outputs": [],
   "source": [
    "def Distribution_Word(WordDict, WordNum, stop_word, filename):\n",
    "\tDegree_Num = dict()\n",
    "\tfor word, num in WordDict.items():\n",
    "\t\tif word not in stop_word:\n",
    "\t\t\tif num not in Degree_Num:\n",
    "\t\t\t\tDegree_Num[num] = 1\n",
    "\t\t\telse:\n",
    "\t\t\t\tDegree_Num[num] += 1\n",
    "#print(Degree_Num)\n",
    "\tsortList_degree = sorted(Degree_Num.items(), key=lambda kv: kv[0])\n",
    "\tfre_list = []\n",
    "\tdegree_list = []\n",
    "\tfor pair in sortList_degree:\n",
    "\t\tdegree_list.append(np.log(pair[0]))\n",
    "\t\tfre_list.append(np.log(float(pair[1])/WordNum))\n",
    "\n",
    "\tplt.plot(degree_list, fre_list, 'o')\n",
    "\tplt.title(filename+\"_word_distribution\")\n",
    "\tplt.xlabel(\"Degrees of word(times(log)\")\n",
    "\tplt.ylabel(\"Frequence of word(log)\")\n",
    "\tplt.savefig(filename+'Word_distribution.png')\n",
    "\tplt.show()"
   ]
  },
  {
   "cell_type": "code",
   "execution_count": 27,
   "metadata": {},
   "outputs": [
    {
     "data": {
      "image/png": "[encoded data removed]",
      "text/plain": [
       "<Figure size 432x288 with 1 Axes>"
      ]
     },
     "metadata": {
      "needs_background": "light"
     },
     "output_type": "display_data"
    }
   ],
   "source": [
    "Distribution_Word(wiki_word_dict, wiki_word_num, stop_word, 'wiki-bios.10k.txt')"
   ]
  },
  {
   "cell_type": "code",
   "execution_count": 54,
   "metadata": {},
   "outputs": [
    {
     "name": "stdout",
     "output_type": "stream",
     "text": [
      "{9: 117, 21: 32, 1680: 1, 1: 6030, 19: 36, 102: 2, 1138: 1, 469: 1, 7: 182, 2: 1600, 274: 1, 10: 86, 351: 1, 818: 1, 53: 8, 501: 1, 69: 2, 6: 250, 1454: 1, 4: 483, 17: 39, 46: 3, 210: 1, 48: 5, 32: 10, 28: 15, 401: 1, 20: 44, 107: 1, 12: 72, 31: 19, 58: 3, 14: 43, 29: 19, 365: 1, 3: 785, 114: 1, 37: 11, 24: 20, 380: 1, 25: 11, 11: 81, 8: 143, 18: 31, 36: 10, 5: 295, 16: 40, 49: 5, 15: 41, 270: 1, 118: 1, 13: 60, 1145: 1, 113: 1, 110: 2, 42: 7, 770: 1, 54: 6, 101: 3, 62: 4, 131: 1, 44: 7, 123: 2, 45: 8, 200: 1, 26: 15, 82: 2, 119: 1, 185: 1, 88: 1, 245: 1, 35: 11, 146: 1, 853: 1, 60: 3, 39: 9, 61: 5, 22: 21, 55: 4, 56: 7, 27: 11, 414: 1, 170: 2, 109: 2, 92: 1, 57: 8, 75: 3, 76: 1, 80: 4, 133: 1, 38: 8, 33: 12, 23: 14, 40: 3, 186: 1, 43: 7, 121: 1, 306: 1, 144: 2, 30: 5, 112: 1, 148: 1, 71: 2, 68: 1, 116: 1, 67: 2, 34: 6, 203: 1, 207: 1, 307: 1, 312: 1, 130: 1, 84: 2, 103: 2, 66: 2, 72: 2, 50: 6, 250: 1, 251: 1, 378: 1, 360: 1, 227: 1, 147: 1, 77: 1, 157: 1, 65: 1, 166: 1, 41: 5, 51: 2, 105: 1, 89: 1, 149: 1, 191: 1, 150: 1, 202: 1, 64: 3, 59: 1, 81: 2, 78: 1, 169: 1, 94: 1, 278: 1, 96: 2, 86: 2, 167: 1, 93: 1, 224: 1, 52: 1, 91: 1, 117: 1, 95: 1, 90: 1, 85: 1, 47: 3}\n"
     ]
    },
    {
     "data": {
      "image/png": "[encoded data removed]",
      "text/plain": [
       "<Figure size 432x288 with 1 Axes>"
      ]
     },
     "metadata": {
      "needs_background": "light"
     },
     "output_type": "display_data"
    }
   ],
   "source": [
    "Distribution_Word(reddit_word_dict, reddit_word_num, stop_word, 'reddit-questions.10k.txt')"
   ]
  },
  {
   "cell_type": "markdown",
   "metadata": {},
   "source": [
    "We can observe from the above plots that both are power-law distribution. Thr distibutions are also similar for both the plots."
   ]
  },
  {
   "cell_type": "markdown",
   "metadata": {},
   "source": [
    "##### 2.2\n",
    "Now compare the two collections more rigorously. Report the following properties of each collection. Can you explain these differences based on the nature of the two collections? (20 points) (You can use the nltk.pos tag() function of the NLTK package or the nlp function from SpaCy for part of speech tagging.)\n",
    "- a) frequency of stopwords (percentage of the word occurrences that are stopwords.);\n",
    "- b) percentage of capital letters;\n",
    "- c) average number of characters per word;\n",
    "- d) percentage of nouns, adjectives, verbs, adverbs, and pronouns;\n",
    "- e) the top 10 nouns, top 10 verbs, and top 10 adjectives."
   ]
  },
  {
   "cell_type": "code",
   "execution_count": 29,
   "metadata": {},
   "outputs": [],
   "source": [
    "def get_proportion_stopword(word_num, word_dict, stop_word):\n",
    "\tstop_num = 0\n",
    "\tfor word, num in word_dict.items():\n",
    "\t\t# a frequence of stopword\n",
    "\t\tif word in stop_word:\n",
    "\t\t\tstop_num += num\n",
    "\tprint(\"frequency of stopword: \" + str(float(stop_num)/word_num))"
   ]
  },
  {
   "cell_type": "code",
   "execution_count": 35,
   "metadata": {},
   "outputs": [],
   "source": [
    "def get_cap_letters_lenword(filename):\n",
    "\tletter_num = 0\n",
    "\tcap_num = 0\n",
    "\tword_num = 0\n",
    "\tword_total_len = 0\n",
    "\twith open(filename, encoding=\"utf8\") as f:\n",
    "\t\tfor line in f:\n",
    "\t\t\tline = line.strip('\\n')\n",
    "\t\t\twords = nltk.word_tokenize(line)\n",
    "\t\t\tfor word in words:\n",
    "\t\t\t\tif word not in string.punctuation:\n",
    "\t\t\t\t\tword_num += 1\n",
    "\t\t\t\t\tword_total_len += len(word)\n",
    "\t\t\t\t\tfor letter in word:\n",
    "\t\t\t\t\t\tletter_num += 1\n",
    "\t\t\t\t\t\tif letter.isupper():\n",
    "\t\t\t\t\t\t\tcap_num += 1\n",
    "\tprint(filename + ': average of len of word = '+ str(float(word_total_len)/word_num))\n",
    "\tprint(filename + ': proportion of cap letters = '+ str(float(cap_num)/letter_num))"
   ]
  },
  {
   "cell_type": "code",
   "execution_count": 36,
   "metadata": {},
   "outputs": [],
   "source": [
    "def get_tag(filename,stopword):\n",
    "\twith open(filename, encoding=\"utf8\") as f:\n",
    "\t\tpos_dict = dict()\n",
    "\t\tnoun_dict = dict()\n",
    "\t\tverb_dict = dict()\n",
    "\t\tadj_dict = dict()\n",
    "\t\ttag_list = ['NOUN', \"VERB\",'ADJ','ADV']\n",
    "\t\t# percentage of noun, adj, verb, adverb, pornouns\n",
    "\t\tfor line in f:\n",
    "\t\t\tline = line.strip('\\n')\n",
    "\t\t\twords = nltk.word_tokenize(line)\n",
    "\t\t\tfor word in words:\n",
    "\t\t\t\tif word in string.punctuation:\n",
    "\t\t\t\t\twords.remove(word)\n",
    "\t\t\tfor word in words:\n",
    "\t\t\t\tif word in stopword:\n",
    "\t\t\t\t\twords.remove(word)\n",
    "\t\t\ttag_pair = nltk.pos_tag(words, tagset='universal')\n",
    "\t\t\tfor pair in tag_pair:\n",
    "\n",
    "\t\t\t\tif pair[1] not in pos_dict:\n",
    "\t\t\t\t\tpos_dict[pair[1]] = 1\n",
    "\t\t\t\telse:\n",
    "\t\t\t\t\tpos_dict[pair[1]] += 1\n",
    "\t\t\t\tif pair[1] == 'NOUN':\n",
    "\t\t\t\t\tif pair[0] not in noun_dict:\n",
    "\t\t\t\t\t\tnoun_dict[pair[0]] = 1\n",
    "\t\t\t\t\telse:\n",
    "\t\t\t\t\t\tnoun_dict[pair[0]] += 1\n",
    "\t\t\t\tif pair[1] == 'VERB':\n",
    "\t\t\t\t\tif pair[0] not in verb_dict:\n",
    "\t\t\t\t\t\tverb_dict[pair[0]] = 1\n",
    "\t\t\t\t\telse:\n",
    "\t\t\t\t\t\tverb_dict[pair[0]] += 1\n",
    "\t\t\t\tif pair[1] == 'ADJ':\n",
    "\t\t\t\t\tif pair[0] not in adj_dict:\n",
    "\t\t\t\t\t\tadj_dict[pair[0]] = 1\n",
    "\t\t\t\t\telse:\n",
    "\t\t\t\t\t\tadj_dict[pair[0]] += 1\n",
    "\n",
    "    \n",
    "\t\treturn [pos_dict, noun_dict, verb_dict, adj_dict]"
   ]
  },
  {
   "cell_type": "code",
   "execution_count": 37,
   "metadata": {},
   "outputs": [],
   "source": [
    "def get_tag_distribution(filename, word_num,stop_word):\n",
    "\ttaglist = get_tag(filename,stop_word)\n",
    "\tpos_dict = taglist[0]\n",
    "\tnoun_dict = taglist[1]\n",
    "\tverb_dict = taglist[2]\n",
    "\tadj_dict = taglist[3]\n",
    "\tfor tag, num in pos_dict.items():\n",
    "\t\tprint(tag + \": \" + str(float(num) / word_num))\n",
    "\tsort_noun = [pair[0] for pair in sorted(noun_dict.items(), key=lambda kv: kv[1], reverse=True)]\n",
    "\tprint(sort_noun[:10])\n",
    "\tsort_verb = [pair[0] for pair in sorted(verb_dict.items(), key=lambda kv: kv[1], reverse=True)]\n",
    "\tprint(sort_verb[:10])\n",
    "\tsort_adj = [pair[0] for pair in sorted(adj_dict.items(), key=lambda kv: kv[1], reverse=True)]\n",
    "\tprint(sort_adj[:10])"
   ]
  },
  {
   "cell_type": "code",
   "execution_count": 38,
   "metadata": {},
   "outputs": [],
   "source": [
    "def analysis(filename, word_dict,word_num, stop_word ):\n",
    "\tprint(filename)\n",
    "\t# a\n",
    "\tget_proportion_stopword(word_num, word_dict, stop_word)\n",
    "\t#b, c\n",
    "\tget_cap_letters_lenword(filename)\n",
    "\t# de\n",
    "\tget_tag_distribution(filename, word_num, stop_word)"
   ]
  },
  {
   "cell_type": "code",
   "execution_count": 39,
   "metadata": {},
   "outputs": [
    {
     "name": "stdout",
     "output_type": "stream",
     "text": [
      "wiki-bios.10k.txt\n",
      "frequency of stopword: 0.3544670151917948\n",
      "wiki-bios.10k.txt: average of len of word = 4.838508210692344\n",
      "wiki-bios.10k.txt: proportion of cap letters = 0.06990628891301624\n",
      "NOUN: 0.4001511547544848\n",
      "ADP: 0.020221241376971053\n",
      ".: 0.048009124404814904\n",
      "X: 0.0021837940055373945\n",
      "NUM: 0.06702176374066678\n",
      "ADJ: 0.053090298535940064\n",
      "PRON: 0.022622969586730605\n",
      "VERB: 0.08758898626675317\n",
      "PRT: 0.008937634353892924\n",
      "DET: 0.05418442152036667\n",
      "ADV: 0.014094067864880794\n",
      "CONJ: 0.0010727111608600346\n",
      "['*', '==', 'University', 'New', '–', '==References==', 'years', '—', 'time', 'season']\n",
      "['was', 'born', 'played', 'made', 'won', 'served', 'died', 'had', 'be', 'been']\n",
      "['first', 'American', 'second', 'former', 'new', 'early', '==External', 'national', 'other', 'final']\n"
     ]
    }
   ],
   "source": [
    "analysis('wiki-bios.10k.txt', wiki_word_dict, wiki_word_num, stop_word)"
   ]
  },
  {
   "cell_type": "code",
   "execution_count": 40,
   "metadata": {},
   "outputs": [
    {
     "name": "stdout",
     "output_type": "stream",
     "text": [
      "reddit-questions.10k.txt\n",
      "frequency of stopword: 0.5709427521008403\n",
      "reddit-questions.10k.txt: average of len of word = 4.222058823529411\n",
      "reddit-questions.10k.txt: proportion of cap letters = 0.03143193013882669\n",
      "ADJ: 0.07609637605042016\n",
      "NOUN: 0.2258140756302521\n",
      "VERB: 0.1573201155462185\n",
      "PRON: 0.07957589285714285\n",
      "DET: 0.03918067226890756\n",
      "ADV: 0.03801207983193277\n",
      "NUM: 0.008075105042016808\n",
      "CONJ: 0.0037289915966386557\n",
      "ADP: 0.021264443277310925\n",
      "PRT: 0.00939469537815126\n",
      ".: 0.007851890756302521\n",
      "X: 0.0003873424369747899\n",
      "['Reddit', 'thing', 'people', '’', 'People', 'life', 'time', 'reddit', 'Redditors', 's']\n",
      "['did', 'have', \"'s\", '’', 'do', 'is', 'would', 'be', 'are', \"'ve\"]\n",
      "['best', 's', 'good', 'Serious', 'favorite', '’', 'most', 'worst', 'weirdest', 'bad']\n"
     ]
    }
   ],
   "source": [
    "analysis('reddit-questions.10k.txt', reddit_word_dict, reddit_word_num, stop_word)"
   ]
  },
  {
   "cell_type": "markdown",
   "metadata": {},
   "source": [
    "##### Properties:\n",
    "- a) Frequency of stopwords: Wiki (0.35) < Reddit (0.57)\n",
    "-->   Reddits is mostly oral language hence the frequency of stop words are seen more than in Wiki. \n",
    "\n",
    "- b) Percentage of capital letters: Wiki (0.069) > Reddit (0.031)\n",
    "-->   Wikipedia content are written using official language standards and Reddits are where people generlly don't care about using words with Capital letters and following the standards much. Hence Wiki has more percentage of Capital letters.\n",
    "\n",
    "- c) average number of characters per word: Wiki (4.84) > Reddit (4.22)\n",
    "-->   As reddits are oral language, hence there are chances that people shorten the word and as Wiki bios are official pages, they do not use so the average number of characters per word will be more for Wiki.\n",
    "\n",
    "- d) percentage of nouns, adjectives, verbs, adverbs, and pronouns:\n",
    "    - Wiki: Nouns - 0.4; Adjectives - 0.05; Verbs - 0.08; Adverbs - 0.014; Pronouns - 0.02\n",
    "    - Reddit: Nouns - 0.22; Adjectives - 0.07; Verbs - 0.15; Adverbs - 0.03; Pronouns - 0.07 \n",
    "-->   Wiki has more nouns and reddit has more of adjectives, verbs, adverbs, and pronouns. The reason is main difference between professional written english and oral english. \n",
    "\n",
    "- d) The top 10 nouns, top 10 verbs, and top 10 adjectives:\n",
    "    - Wiki:\n",
    "        - Noun: ['*', '==', 'University', 'New', '–', '==References==', 'years', '—', 'time', 'season']\n",
    "        - Verb: ['was', 'born', 'played', 'made', 'won', 'served', 'died', 'had', 'be', 'been']\n",
    "        - Adjective: ['first', 'American', 'second', 'former', 'new', 'early', '==External', 'national', 'other', 'final']\n",
    "    - Reddit:\n",
    "        - Noun: ['Reddit', 'thing', 'people', '’', 'People', 'life', 'time', 'reddit', 'Redditors', 's']\n",
    "        - Verb: ['did', 'have', \"'s\", '’', 'do', 'is', 'would', 'be', 'are', \"'ve\"]  \n",
    "        - Adjective: ['best', 's', 'good', 'Serious', 'favorite', '’', 'most', 'worst', 'weirdest', 'bad']"
   ]
  },
  {
   "cell_type": "markdown",
   "metadata": {},
   "source": [
    "##### 2.3\n",
    "We would like to summarize each document with a few words. However, picking the most frequently used words in each document would be a bad idea, since they are more likely to appear in other document as well. Instead, we pick the words\n",
    "with the highest TF-IDF weights in each document. In this problem, term frequency (TF) and inverse document frequency (IDF) are defined as:\n",
    "TF(t; d) = log(c(t; d) + 1)IDF(t) = 1 + log(N=k):\n",
    "c(t; d) is the frequency count of term t in doc d, N is the total number of documents in the collection, and k is the document frequency of term t in the collection.For each of the first 10 documents in the Wikipedia biographies collection, print out the 5 words that have the highest TF-IDF weights."
   ]
  },
  {
   "cell_type": "code",
   "execution_count": 41,
   "metadata": {},
   "outputs": [],
   "source": [
    "def TFIDF(collocation,stop_word):\n",
    "\tN = 0\n",
    "\twith open(collocation, encoding=\"utf8\") as f:\n",
    "\t\tdoc_index = 0\n",
    "\t\ttuple_list = list()\n",
    "\t\tfor doc in f:\n",
    "\t\t\tdoc_len = 0\n",
    "\t\t\tN+=1\n",
    "\t\t\tword_dict = dict()\n",
    "\t\t\tdoc = doc.strip('\\n')\n",
    "\t\t\twords = nltk.word_tokenize(doc)\n",
    "\t\t\tfor word in words:\n",
    "\t\t\t\tword = word.lower()\n",
    "\t\t\t\tif word not in string.punctuation and word not in word_dict and word not in stop_word:\n",
    "\t\t\t\t\tword_dict[word] = 1\n",
    "\t\t\t\t\tdoc_len += 1\n",
    "\t\t\t\telif word not in string.punctuation and word not in stop_word:\n",
    "\t\t\t\t\tword_dict[word] += 1\n",
    "\t\t\t\t\tdoc_len += 1\n",
    "\t\t\tfor word, count in word_dict.items():\n",
    "\t\t\t\ttuple_list.append((doc_index, word, np.log(float(count) + 1)))\n",
    "\t\t\tdoc_index += 1\n",
    "\n",
    "\tword_sort = sorted(tuple_list, key=lambda pair: pair[1])\n",
    "\tword_doc = dict()\n",
    "\n",
    "\n",
    "\tfor pair in word_sort:\n",
    "\t\tif pair[1] not in word_doc:\n",
    "\t\t\tdoc_list = []\n",
    "\t\t\tdoc_list.append(pair[0])\n",
    "\t\t\tword_doc[pair[1]] = doc_list\n",
    "\t\telse:\n",
    "\t\t\tdoc_list = word_doc[pair[1]]\n",
    "\t\t\tdoc_list.append(pair[0])\n",
    "\t\t\tword_doc[pair[1]] = doc_list\n",
    "\t# this is IDF\n",
    "\tfor word, doc_list in word_doc.items():\n",
    "\t\tdoc_len = len(set(doc_list))\n",
    "\t\tword_doc[word] = 1 + np.log(float(N)/doc_len)\n",
    "\n",
    "\n",
    "\tTF_IDF_doc = dict()\n",
    "\tfor doc_index in range(10):\n",
    "\t\tTF_IDF_list = list()\n",
    "\t\tfor pair in tuple_list:\n",
    "\t\t\tif pair[0] == doc_index:\n",
    "\t\t\t\tTF_IDF_list.append((pair[0], pair[1], pair[2] * word_doc[pair[1]]))\n",
    "\t\tTF_IDF_doc[doc_index] = TF_IDF_list\n",
    "\n",
    "\tfor doc, tuple in TF_IDF_doc.items():\n",
    "\t\tprint('doc' + str(doc))\n",
    "\t\ttop5_list = sorted(tuple, key=lambda x: x[2], reverse=True)[:5]\n",
    "\t\tprint([pair[1] for pair in top5_list])"
   ]
  },
  {
   "cell_type": "code",
   "execution_count": 42,
   "metadata": {},
   "outputs": [
    {
     "name": "stdout",
     "output_type": "stream",
     "text": [
      "doc0\n",
      "['szilard', 'fermi', 'neutrons', 'uranium', 'fission']\n",
      "doc1\n",
      "['corson', 'belles', 'cordier', 'thionville', 'respire']\n",
      "doc2\n",
      "['al-hilal', 'britos', '0', 'uruguayan', 'mx']\n",
      "doc3\n",
      "['1530', 'exeter', 'laurence', '1532', '1543']\n",
      "doc4\n",
      "['eaton', 'revill', 'uncredited', 'forsyte', 'taos']\n",
      "doc5\n",
      "['fusc', 'bois-guillaume', 'sierra', 'zombo', 'freetown']\n",
      "doc6\n",
      "['gaete', 'schwager', 'chilena', 'eliseo', 'concepción']\n",
      "doc7\n",
      "['korea', 'tok-hun', 'dprk-south', '김덕훈', 'politburo']\n",
      "doc8\n",
      "['jamet', 'sauveur', 'beatification', 'pierre-françois', 'approved']\n",
      "doc9\n",
      "['amevor', 'middle-distance', 'ghanaian', '1500', 'runner']\n"
     ]
    }
   ],
   "source": [
    "TFIDF('wiki-bios.10k.txt',stop_word)"
   ]
  },
  {
   "cell_type": "markdown",
   "metadata": {},
   "source": [
    "#### 2.4\n",
    "As discussed in the class, TF-IDF is a common way to weight the terms in each document. It can also be easily calculated from the inverted index, since TF can be obtained from the postings and IDF can be summarized as a dictionary. Could\n",
    "you think of another weighting that cannot be calculated directly from inverted index? What is the advantage of such a weighting?"
   ]
  },
  {
   "cell_type": "markdown",
   "metadata": {},
   "source": [
    "Answer: We can categorise each word of the document into different categories. We can use theme vector to represent documents and for quesry we can use vectors. This can also be weighed for ranking purpose. But we may have to normalise each catergories when we divide each word into different categories."
   ]
  },
  {
   "cell_type": "code",
   "execution_count": null,
   "metadata": {},
   "outputs": [],
   "source": []
  }
 ],
 "metadata": {
  "kernelspec": {
   "display_name": "Python 3",
   "language": "python",
   "name": "python3"
  },
  "language_info": {
   "codemirror_mode": {
    "name": "ipython",
    "version": 3
   },
   "file_extension": ".py",
   "mimetype": "text/x-python",
   "name": "python",
   "nbconvert_exporter": "python",
   "pygments_lexer": "ipython3",
   "version": "3.7.6"
  }
 },
 "nbformat": 4,
 "nbformat_minor": 4
}
